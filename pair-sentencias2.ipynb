{
 "cells": [
  {
   "cell_type": "markdown",
   "metadata": {},
   "source": [
    "## Ejericios bucles for\n"
   ]
  },
  {
   "cell_type": "markdown",
   "metadata": {},
   "source": [
    "##### 1 Imprimir los números del 1 al 5 utilizando un bucle for\n",
    "##### Descripción: Utiliza un bucle for para imprimir los números del 1 al 5 (incluido) en orden ascendente."
   ]
  },
  {
   "cell_type": "code",
   "execution_count": 3,
   "metadata": {},
   "outputs": [
    {
     "name": "stdout",
     "output_type": "stream",
     "text": [
      "1\n",
      "2\n",
      "3\n",
      "4\n",
      "5\n"
     ]
    }
   ],
   "source": [
    "for num in range(1,6):\n",
    "    print(num)"
   ]
  },
  {
   "cell_type": "markdown",
   "metadata": {},
   "source": [
    "##### 2 Calcular la suma de los primeros 10 números naturales utilizando un bucle for\n",
    "##### Descripción: Utiliza un bucle for para calcular la suma de los primeros 10 números naturales (1 + 2 + 3 + ... + 10)."
   ]
  },
  {
   "cell_type": "code",
   "execution_count": 5,
   "metadata": {},
   "outputs": [
    {
     "name": "stdout",
     "output_type": "stream",
     "text": [
      "1\n",
      "3\n",
      "6\n",
      "10\n",
      "15\n",
      "21\n",
      "28\n",
      "36\n",
      "45\n",
      "55\n"
     ]
    }
   ],
   "source": [
    "\n",
    "suma = 0\n",
    "\n",
    "for n in range(1,11):\n",
    "  suma += n\n",
    "  print (suma)\n"
   ]
  },
  {
   "cell_type": "markdown",
   "metadata": {},
   "source": [
    "\n",
    "##### 3 Calcular el producto de los elementos de una lista\n",
    "##### Descripción: Dada una lista de números, utiliza un bucle for para calcular el producto de todos los elementos."
   ]
  },
  {
   "cell_type": "code",
   "execution_count": 18,
   "metadata": {},
   "outputs": [
    {
     "name": "stdout",
     "output_type": "stream",
     "text": [
      "3\n",
      "15\n",
      "105\n",
      "945\n",
      "10395\n"
     ]
    }
   ],
   "source": [
    "lista_numeros = [3,5,7,9,11]\n",
    "\n",
    "total_producto = 1\n",
    "\n",
    "\n",
    "for num in lista_numeros:\n",
    "    total_producto *=num\n",
    "    print(total_producto)"
   ]
  },
  {
   "cell_type": "markdown",
   "metadata": {},
   "source": [
    "##### 4 Imprimir los caracteres de una cadena de texto\n",
    "##### Descripción: Dada una cadena de texto, utiliza un bucle for para imprimir cada carácter en una línea separada."
   ]
  },
  {
   "cell_type": "code",
   "execution_count": 24,
   "metadata": {},
   "outputs": [
    {
     "name": "stdout",
     "output_type": "stream",
     "text": [
      " \n",
      "H\n",
      "o\n",
      "l\n",
      "a\n",
      " \n",
      "L\n",
      "a\n",
      "u\n",
      "r\n",
      "a\n",
      " \n",
      "y\n",
      " \n",
      "J\n",
      "o\n",
      "h\n",
      "a\n",
      "n\n",
      "n\n",
      "a\n"
     ]
    }
   ],
   "source": [
    "saludo = \" Hola Laura y Johanna\"\n",
    "\n",
    "for elemento in saludo:\n",
    "    print(elemento)"
   ]
  },
  {
   "cell_type": "markdown",
   "metadata": {},
   "source": [
    "##### 5 Imprimir los números pares del 1 al 100 utilizando un bucle for\n",
    "##### Descripción: Utiliza un bucle for para imprimir los números pares del 1 al 100 en orden ascendente."
   ]
  },
  {
   "cell_type": "code",
   "execution_count": 27,
   "metadata": {},
   "outputs": [
    {
     "name": "stdout",
     "output_type": "stream",
     "text": [
      "0\n",
      "2\n",
      "4\n",
      "6\n",
      "8\n",
      "10\n",
      "12\n",
      "14\n",
      "16\n",
      "18\n",
      "20\n",
      "22\n",
      "24\n",
      "26\n",
      "28\n",
      "30\n",
      "32\n",
      "34\n",
      "36\n",
      "38\n",
      "40\n",
      "42\n",
      "44\n",
      "46\n",
      "48\n",
      "50\n",
      "52\n",
      "54\n",
      "56\n",
      "58\n",
      "60\n",
      "62\n",
      "64\n",
      "66\n",
      "68\n",
      "70\n",
      "72\n",
      "74\n",
      "76\n",
      "78\n",
      "80\n",
      "82\n",
      "84\n",
      "86\n",
      "88\n",
      "90\n",
      "92\n",
      "94\n",
      "96\n",
      "98\n",
      "100\n"
     ]
    }
   ],
   "source": [
    "for x in range(0,102,2):\n",
    "    print(x)"
   ]
  },
  {
   "cell_type": "markdown",
   "metadata": {},
   "source": [
    "##### 6 Imprimir los números primos del 1 al 50 utilizando un bucle for\n",
    "##### Descripción: Utiliza un bucle for para imprimir los números primos del 1 al 50 en orden ascendente.\n",
    "##### NOTA: Según la Wikipedia, un número primo es un número natural mayor que 1 que no tiene divisores positivos más que 1 y él mismo."
   ]
  },
  {
   "cell_type": "code",
   "execution_count": 9,
   "metadata": {},
   "outputs": [
    {
     "name": "stdout",
     "output_type": "stream",
     "text": [
      "[2, 3, 5, 7, 11, 13, 17, 19, 23, 29, 31, 37, 41, 43, 47]\n"
     ]
    }
   ],
   "source": [
    "lista_primos = []\n",
    "\n",
    "for n in range(1, 51):\n",
    "    if n > 1:\n",
    "        es_primo = True\n",
    "        for i in range(2, n):  \n",
    "            if n % i == 0:\n",
    "                es_primo = False\n",
    "                break\n",
    "        if es_primo:\n",
    "            lista_primos.append(n)\n",
    "\n",
    "print(lista_primos)"
   ]
  },
  {
   "cell_type": "markdown",
   "metadata": {},
   "source": [
    "#### 7 Calcular el factorial de un número utilizando un bucle for\n",
    "#### Descripción: Dado un número entero positivo, calcula su factorial utilizando un bucle for."
   ]
  },
  {
   "cell_type": "code",
   "execution_count": 36,
   "metadata": {},
   "outputs": [
    {
     "name": "stdout",
     "output_type": "stream",
     "text": [
      "El factorial de 10 es 3628800\n"
     ]
    }
   ],
   "source": [
    "\n",
    "numero = 10\n",
    "\n",
    "factorial = 1\n",
    "for i in range(1, numero + 1):\n",
    "    factorial *= i\n",
    "\n",
    "print(\"El factorial de\", numero, \"es\", factorial)"
   ]
  },
  {
   "cell_type": "markdown",
   "metadata": {},
   "source": [
    "#### 8 Juego de adivinar palabras utilizando un bucle for\n",
    "#### Descripción: Crea un juego en el que el jugador debe adivinar una palabra secreta. El jugador tiene un número limitado de intentos y se le proporcionan pistas después de cada intento. Utiliza un bucle for para controlar los intentos del jugador"
   ]
  },
  {
   "cell_type": "code",
   "execution_count": 1,
   "metadata": {},
   "outputs": [
    {
     "name": "stdout",
     "output_type": "stream",
     "text": [
      "Podría ser por la mañana, intentalo de nuevo\n",
      "Podría ser por la mañana, intentalo de nuevo\n",
      "Podría ser por la mañana, intentalo de nuevo\n"
     ]
    }
   ],
   "source": [
    "lista_palabras = [\"hola\",\"buenos días\",\"aloha\"]\n",
    "\n",
    "palabra_secreta = \"aloha\"\n",
    "\n",
    "vidas = 2 \n",
    "\n",
    "palabra = input(\"Introduzca una palabra\")\n",
    "\n",
    "while vidas <=2:\n",
    "    for p in lista_palabras:\n",
    "        if palabra not in lista_palabras:\n",
    "            vidas -=1\n",
    "        print(\"Podría ser por la mañana, intentalo de nuevo\")\n",
    "            \n",
    "    break\n",
    "else: \n",
    "    print('Has acertado')\n",
    "            \n",
    "\n"
   ]
  },
  {
   "cell_type": "markdown",
   "metadata": {},
   "source": [
    "## Ejercicios list comprehension"
   ]
  },
  {
   "cell_type": "markdown",
   "metadata": {},
   "source": [
    "#### 1 Generar una lista de los números pares del 1 al 20.\n",
    "#### Descripción: Utiliza list comprehension para generar una lista que contenga todos los números pares en el rango del 1 al 20."
   ]
  },
  {
   "cell_type": "code",
   "execution_count": 7,
   "metadata": {},
   "outputs": [
    {
     "name": "stdout",
     "output_type": "stream",
     "text": [
      "0\n",
      "2\n",
      "4\n",
      "6\n",
      "8\n",
      "10\n",
      "12\n",
      "14\n",
      "16\n",
      "18\n",
      "20\n"
     ]
    }
   ],
   "source": [
    "lista_num = [0,1,2,3,4,5,6,7,8,9,10,11,12,13,14,15,16,17,18,19,20,21]\n",
    "\n",
    "for num in lista_num:\n",
    "    if num % 2 == 0:\n",
    "        print(lista_num[num])"
   ]
  },
  {
   "cell_type": "code",
   "execution_count": 3,
   "metadata": {},
   "outputs": [
    {
     "name": "stdout",
     "output_type": "stream",
     "text": [
      "[0, 2, 4, 6, 8, 10, 12, 14, 16, 18, 20]\n"
     ]
    }
   ],
   "source": [
    "lista_numc = [num for num in range(21) if (num) % 2 == 0]\n",
    "print(lista_numc)\n"
   ]
  },
  {
   "cell_type": "markdown",
   "metadata": {},
   "source": [
    "#### 2 Obtener una lista de las vocales en una cadena de texto.\n",
    "#### Descripción: Utiliza list comprehension para crear una lista que contenga todas las vocales presentes en una cadena de texto (sin repetición)"
   ]
  },
  {
   "cell_type": "code",
   "execution_count": 5,
   "metadata": {},
   "outputs": [
    {
     "name": "stdout",
     "output_type": "stream",
     "text": [
      "['o', 'a']\n"
     ]
    }
   ],
   "source": [
    "text = 'Hola'\n",
    "li_vocales = [letra for letra in text if letra in ('a e i o u')]\n",
    "print(li_vocales)"
   ]
  },
  {
   "cell_type": "markdown",
   "metadata": {},
   "source": [
    "#### 3 Filtrar los números positivos de una lista y calcular su cuadrado.\n",
    "#### Descripción: Utiliza list comprehension para filtrar los números positivos de una lista y calcular el cuadrado de cada uno."
   ]
  },
  {
   "cell_type": "code",
   "execution_count": 11,
   "metadata": {},
   "outputs": [
    {
     "name": "stdout",
     "output_type": "stream",
     "text": [
      "[49, 64, 9, 25]\n"
     ]
    }
   ],
   "source": [
    "lista_numeros = [7,-5,-6,0,-3,8,3,5]\n",
    "\n",
    "cuadrados_positivos = [n**2 for n in lista_numeros if n>0]\n",
    "\n",
    "print(cuadrados_positivos)"
   ]
  },
  {
   "cell_type": "markdown",
   "metadata": {},
   "source": [
    "## Ejercicios try ...except"
   ]
  },
  {
   "cell_type": "markdown",
   "metadata": {},
   "source": [
    "#### 1 Realizar una búsqueda en una lista y capturar una excepción en caso de valor no encontrado.\n",
    "#### Descripción: Solicita al usuario una lista de nombres y un nombre para buscar en la lista. Intenta encontrar el nombre en la lista y utiliza las sentencias try y except para capturar la excepción en caso de que el nombre no sea encontrado"
   ]
  },
  {
   "cell_type": "code",
   "execution_count": 1,
   "metadata": {},
   "outputs": [
    {
     "name": "stdout",
     "output_type": "stream",
     "text": [
      "El nombre jere no está en la lista\n"
     ]
    }
   ],
   "source": [
    "try:\n",
    "    lista_nombres = str(input ('Introduzca varios nombres separados por comas'))\n",
    "    nombre = str(input('Introduzca un nombre a comprobar'))\n",
    "    busca_nombre = lista_nombres.index (nombre) ### Creamos variable para introducir un index(busqueda en lista_nombres) donde busque el nombre indicado.\n",
    "    print (f'El nombre {nombre} está en la lista')\n",
    "except ValueError:\n",
    "    print (f'El nombre {nombre} no está en la lista')"
   ]
  }
 ],
 "metadata": {
  "kernelspec": {
   "display_name": "base",
   "language": "python",
   "name": "python3"
  },
  "language_info": {
   "codemirror_mode": {
    "name": "ipython",
    "version": 3
   },
   "file_extension": ".py",
   "mimetype": "text/x-python",
   "name": "python",
   "nbconvert_exporter": "python",
   "pygments_lexer": "ipython3",
   "version": "3.9.12"
  }
 },
 "nbformat": 4,
 "nbformat_minor": 2
}
