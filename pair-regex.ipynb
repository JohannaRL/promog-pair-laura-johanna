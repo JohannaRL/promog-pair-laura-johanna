{
 "cells": [
  {
   "cell_type": "code",
   "execution_count": 6,
   "metadata": {},
   "outputs": [],
   "source": [
    "import re"
   ]
  },
  {
   "cell_type": "markdown",
   "metadata": {},
   "source": [
    "###### 1 - Validar un número de teléfono.\n",
    "###### Descripción: Verificar si una cadena representa un número de teléfono válido en el formato (XXX) XXX-XXXX.\n",
    "###### Probad para cada uno de los teléfonos que tenemos en la siguiente lista:\n",
    "######  telefonos = [\"(123) 456-7890\", \"178 1890-733\", \"(555) 238-1987\", \"(123) 4560-7890\", \"(ABC) 098-1111\"]"
   ]
  },
  {
   "cell_type": "code",
   "execution_count": 12,
   "metadata": {},
   "outputs": [],
   "source": [
    "telefonos = [\"(123) 456-7890\", \"178 1890-733\", \"(555) 238-1987\", \"(123) 4560-7890\", \"(ABC) 098-1111\"]"
   ]
  },
  {
   "cell_type": "code",
   "execution_count": 13,
   "metadata": {},
   "outputs": [],
   "source": [
    "patron_tel = \"\\(\\d{3}\\) \\d{3}-\\d{4}\""
   ]
  },
  {
   "cell_type": "code",
   "execution_count": 14,
   "metadata": {},
   "outputs": [
    {
     "data": {
      "text/plain": [
       "<re.Match object; span=(0, 14), match='(123) 456-7890'>"
      ]
     },
     "execution_count": 14,
     "metadata": {},
     "output_type": "execute_result"
    }
   ],
   "source": [
    "re.match(patron_tel,\"(123) 456-7890\")"
   ]
  },
  {
   "cell_type": "code",
   "execution_count": 15,
   "metadata": {},
   "outputs": [
    {
     "name": "stdout",
     "output_type": "stream",
     "text": [
      "(123) 456-7890\n",
      "(555) 238-1987\n"
     ]
    }
   ],
   "source": [
    "for telefono in telefonos:\n",
    "    if re.match(patron_tel,telefono):\n",
    "        print(telefono)"
   ]
  },
  {
   "cell_type": "markdown",
   "metadata": {},
   "source": [
    "###### 2 -Buscar todas las direcciones de correo electrónico en un texto.\n",
    "###### Descripción: Encontrar todas las direcciones de correo electrónico presentes en una cadena de texto.\n",
    "###### Probad con el siguiente string:\n",
    "###### texto = \"Mi correo es user@example.com. Contacta conmigo en john.doe@email.com"
   ]
  },
  {
   "cell_type": "code",
   "execution_count": 25,
   "metadata": {},
   "outputs": [
    {
     "name": "stdout",
     "output_type": "stream",
     "text": [
      "['user@example.com', 'john.doe@email.com']\n"
     ]
    }
   ],
   "source": [
    "texto = \"Mi correo es user@example.com. Contacta conmigo en john.doe@email.com\"\n",
    "\n",
    "patron_correo = r'\\w[a-z.]+@[a-z.]+\\.[a-z]{2,}\\w' ## \\w - carct.tipo alfab,[de la a-z en minusc,y que pueda llevar un punto(.)] +@ ( el arroba entre palabra y palab) , \\. = buscar un punto, hay que \"escaparlo\" con una barra inversa. \n",
    "\n",
    "encontrar_dir_correos = re.findall(patron_correo,texto)\n",
    "\n",
    "print(encontrar_dir_correos)\n"
   ]
  },
  {
   "cell_type": "markdown",
   "metadata": {},
   "source": [
    "###### 3 -Validar un código postal.\n",
    "###### Descripción: Verificar si una cadena representa un código postal válido de 5 dígitos.\n",
    "###### Probad para cada uno de los códigos postales que tenemos en la siguiente lista:\n",
    "###### codigos_postales = [\"12345\", \"190037\", \"78409\", \"986449\", \"19305\"]"
   ]
  },
  {
   "cell_type": "code",
   "execution_count": 23,
   "metadata": {},
   "outputs": [],
   "source": [
    "codigos_postales = [\"12345\", \"190037\", \"78409\", \"986449\", \"19305\"]"
   ]
  },
  {
   "cell_type": "code",
   "execution_count": 24,
   "metadata": {},
   "outputs": [],
   "source": [
    "patron_cod = \"^\\d{5}$\""
   ]
  },
  {
   "cell_type": "code",
   "execution_count": 25,
   "metadata": {},
   "outputs": [
    {
     "name": "stdout",
     "output_type": "stream",
     "text": [
      "12345\n",
      "78409\n",
      "19305\n"
     ]
    }
   ],
   "source": [
    "for cod in codigos_postales:\n",
    "    if re.match(patron_cod,cod):\n",
    "        print(cod)"
   ]
  },
  {
   "cell_type": "markdown",
   "metadata": {},
   "source": [
    "###### 4 - Encontrar todas las palabras que comienzan con una vocal en un texto.\n",
    "###### Descripción: Encontrar todas las palabras en un texto que comienzan con una vocal (a, e, i, o, u).\n",
    "###### Probad con el siguiente string:\n",
    "###### texto = \"El perro está ladrando. Ana tiene una manzana. La casa es grande.\""
   ]
  },
  {
   "cell_type": "code",
   "execution_count": 35,
   "metadata": {},
   "outputs": [],
   "source": [
    "texto = \"El perro está ladrando. Ana tiene una manzana. La casa es grande.\""
   ]
  },
  {
   "cell_type": "code",
   "execution_count": 38,
   "metadata": {},
   "outputs": [],
   "source": [
    "patron_vocal = \"\\w[^AEIOUaeiou]\\w+\" ### No logro encontrar el patrón..."
   ]
  },
  {
   "cell_type": "code",
   "execution_count": 37,
   "metadata": {},
   "outputs": [
    {
     "name": "stdout",
     "output_type": "stream",
     "text": [
      "['l perro', 'está', 'adrando', 'a tiene', 'a manzana', 'a casa', 's grande']\n"
     ]
    }
   ],
   "source": [
    "resultado = re.findall(patron_vocal,texto)\n",
    "\n",
    "print(resultado)\n"
   ]
  },
  {
   "cell_type": "markdown",
   "metadata": {},
   "source": [
    "###### 5 - Extraer todos los hashtags de un texto.\n",
    "###### Descripción: Extraer todos los hashtags (#) presentes en una cadena de texto.\n",
    "###### Probad con el siguiente string:\n",
    "###### texto = \"Me encanta el #deporte. #FelizViernes a todos. Estoy en la conferencia #Tech2022"
   ]
  },
  {
   "cell_type": "code",
   "execution_count": 50,
   "metadata": {},
   "outputs": [
    {
     "name": "stdout",
     "output_type": "stream",
     "text": [
      "['#', '#', '#']\n"
     ]
    }
   ],
   "source": [
    "texto = \"Me encanta el #deporte. #FelizViernes a todos. Estoy en la conferencia #Tech2022\"\n",
    "\n",
    "patron_hast = \"#\"\n",
    "hast = re.findall(patron_hast,texto)\n",
    "print(hast)"
   ]
  },
  {
   "cell_type": "code",
   "execution_count": 51,
   "metadata": {},
   "outputs": [
    {
     "name": "stdout",
     "output_type": "stream",
     "text": [
      "['#deporte', '#FelizViernes', '#Tech2022']\n"
     ]
    }
   ],
   "source": [
    "##con las palabras :\n",
    "\n",
    "texto = \"Me encanta el #deporte. #FelizViernes a todos. Estoy en la conferencia #Tech2022\"\n",
    "\n",
    "patron_hast = \"#\\w+\"\n",
    "hast = re.findall(patron_hast,texto)\n",
    "print(hast)"
   ]
  },
  {
   "cell_type": "markdown",
   "metadata": {},
   "source": [
    "###### 6- Buscar todos los números decimales en una cadena de texto.\n",
    "###### Descripción: Encontrar todos los números decimales presentes en una cadena de texto.\n",
    "######  Probad con el siguiente string:"
   ]
  },
  {
   "cell_type": "code",
   "execution_count": 70,
   "metadata": {},
   "outputs": [
    {
     "name": "stdout",
     "output_type": "stream",
     "text": [
      "['19.99', '25.5', '2.5']\n"
     ]
    }
   ],
   "source": [
    "texto = \"El precio es $19.99. La temperatura es 25.5°C. El índice de inflación es del 2.5%.\"\n",
    "\n",
    "patron_decimal = \"\\d+\\.\\d+\"\n",
    "\n",
    "decimales = re.findall(patron_decimal,texto)\n",
    "\n",
    "print(decimales)"
   ]
  },
  {
   "cell_type": "code",
   "execution_count": null,
   "metadata": {},
   "outputs": [],
   "source": [
    "# 19.99\n",
    "# 25.5\n",
    "# 2.5\n",
    "\n",
    "# Pruebas patrón : \n",
    "\"\\d[0-9]\\.[0-9]{1,}\" -> me salen los dos primeros digitos el tercero no. \n",
    "\"\\d+\\.\\d+\" ->salen todos y simplificado el pat.\n"
   ]
  },
  {
   "cell_type": "markdown",
   "metadata": {},
   "source": [
    "###### 7 -Validar un nombre de usuario.\n",
    "######  Descripción: Verificar si una cadena representa un nombre de usuario válido, que contiene solo letras minúsculas, números y guiones bajos (_).\n",
    "######  Probad con la siguiente lista de usuarios:\n"
   ]
  },
  {
   "cell_type": "code",
   "execution_count": 86,
   "metadata": {},
   "outputs": [
    {
     "name": "stdout",
     "output_type": "stream",
     "text": [
      "<re.Match object; span=(0, 1), match='l'>\n"
     ]
    }
   ],
   "source": [
    "#No funciona :( \n",
    "\n",
    "lista_usuarios = [\"juan_doe123\", \"lola_12\", \"Aurora_23\", \"12marta_lopez\"]\n",
    "\n",
    "patron7 = \"[a-z_0-9]\"\n",
    "\n",
    "usuario_valido = re.match(patron7,\"lola_12\")\n",
    "\n",
    "print(usuario_valido)"
   ]
  },
  {
   "cell_type": "markdown",
   "metadata": {},
   "source": [
    "###### 8 - Descripción: Encontrar todas las fechas válidas en formato \"dd/mm/aaaa\" presentes en una cadena de texto.\n",
    "###### Probad con el siguiente string:"
   ]
  },
  {
   "cell_type": "code",
   "execution_count": 90,
   "metadata": {},
   "outputs": [
    {
     "name": "stdout",
     "output_type": "stream",
     "text": [
      "['31/12/2022', '01/01/2023', '15/05/1990']\n"
     ]
    }
   ],
   "source": [
    "texto = \"La fecha límite es el 31/12/2022. Hoy es 01/01/2023. Cumpleaños: 15/05/1990.\"  \n",
    "\n",
    "fechas_validas = re.findall(r\"\\d{2}/\\d{2}/\\d{4}\", texto)\n",
    "\n",
    "print(fechas_validas)"
   ]
  },
  {
   "cell_type": "markdown",
   "metadata": {},
   "source": [
    "###### 9 -Descripción: Dada una cadena de texto, remover cualquier carácter especial, como signos de puntuación y símbolos.Probad con el siguiente string:\n"
   ]
  },
  {
   "cell_type": "code",
   "execution_count": 101,
   "metadata": {},
   "outputs": [
    {
     "name": "stdout",
     "output_type": "stream",
     "text": [
      "Hola cómo estás Todo bien\n"
     ]
    }
   ],
   "source": [
    "texto = '¡Hola, cómo estás? ¿Todo bien?'\n",
    "\n",
    "texto_removido = re.sub(r'[^\\w\\s$]','' , texto)     # (patrón, reemplazo, cadena de texto)\n",
    "\n",
    "print(texto_removido)"
   ]
  },
  {
   "cell_type": "code",
   "execution_count": 111,
   "metadata": {},
   "outputs": [
    {
     "name": "stdout",
     "output_type": "stream",
     "text": [
      "El nombre del cliente es John Doe y su dirección es 123 Main Street.\n"
     ]
    }
   ],
   "source": [
    "# Bonus: \n",
    "# Dada una cadena de texto que contiene información personal, como nombres y direcciones, enmascarar esta información reemplazándola con asteriscos (*).\n",
    "# Probad con este string:\n",
    "texto = 'El nombre del cliente es John Doe y su dirección es 123 Main Street.'\n",
    "\n",
    "patron_enmascarar= r\"J\\+\\+\\+\" ## Imposible :( \n",
    "\n",
    "info_enmascarada = re.sub(patron_enmascarar,'*',texto)\n",
    "\n",
    "print(info_enmascarada)"
   ]
  }
 ],
 "metadata": {
  "kernelspec": {
   "display_name": "base",
   "language": "python",
   "name": "python3"
  },
  "language_info": {
   "codemirror_mode": {
    "name": "ipython",
    "version": 3
   },
   "file_extension": ".py",
   "mimetype": "text/x-python",
   "name": "python",
   "nbconvert_exporter": "python",
   "pygments_lexer": "ipython3",
   "version": "3.9.0"
  }
 },
 "nbformat": 4,
 "nbformat_minor": 2
}
