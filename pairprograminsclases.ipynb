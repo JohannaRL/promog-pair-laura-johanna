{
 "cells": [
  {
   "cell_type": "markdown",
   "source": [
    "# Pair programming Clases"
   ],
   "metadata": {
    "collapsed": false
   }
  },
  {
   "cell_type": "code",
   "execution_count": 1,
   "metadata": {
    "ExecuteTime": {
     "end_time": "2024-02-11T16:58:59.277681200Z",
     "start_time": "2024-02-11T16:58:59.271129800Z"
    }
   },
   "outputs": [],
   "source": [
    "import datetime"
   ]
  },
  {
   "cell_type": "code",
   "execution_count": 14,
   "metadata": {
    "ExecuteTime": {
     "end_time": "2024-02-11T17:31:28.062324900Z",
     "start_time": "2024-02-11T17:31:28.047336300Z"
    }
   },
   "outputs": [],
   "source": [
    "class Empleados:\n",
    "    def __init__(self, nombre, apellidos, edad, posicion, salario, año, vacaciones, herramientas): \n",
    "\n",
    "        self.nombre = nombre\n",
    "        self.apellidos = apellidos\n",
    "        self.edad = edad\n",
    "        self.posicion = posicion\n",
    "        self.salario = salario\n",
    "        self.año = año\n",
    "        self.vacaciones = vacaciones\n",
    "        self.herramientas = herramientas\n",
    "\n",
    "    def descripcion(self):\n",
    "        return f\"El nombre es {self.nombre}, {self.posicion} y tiene {self.vacaciones} no disfrutadas\"\n",
    "\n",
    "    def cambiando_posicion(self):\n",
    "        tiene_python = False\n",
    "        tiene_excel = False\n",
    "        for herramienta in self.herramientas:\n",
    "            if herramienta.lower() == \"python\":\n",
    "                tiene_python = True\n",
    "            elif herramienta.lower() == \"excel\":\n",
    "                tiene_excel = True\n",
    "        if not tiene_python and tiene_excel:\n",
    "            return \"Deja de usar excel y aprende python\"\n",
    "        elif not tiene_python and not tiene_excel:\n",
    "            return \"Aprende python\"\n",
    "        elif tiene_python:\n",
    "            return \"Sigue asi, python te ayudara mucho\"\n",
    "\n",
    "    def calcular_antiguedad(self):\n",
    "        antiguedad =  datetime.datetime.now().year - self.año\n",
    "        return f\"{self.nombre} lleva {antiguedad} años en la empresa \"\n",
    "\n",
    "    def solicitar_aumento_vacaciones(self, dias_solicitados):\n",
    "        if dias_solicitados > 0:\n",
    "            vacaciones_totales = self.vacaciones + dias_solicitados\n",
    "            return f\"solicitud aprobada tendrás {vacaciones_totales} dias de vacaciones\"\n",
    "        else:\n",
    "            return \"El numero debe ser positivo\"\n",
    "\n",
    "    def registrar_herramienta(self, nueva_herramienta):\n",
    "        if nueva_herramienta in self.herramientas:\n",
    "            return \"La herramienta ya existia\"\n",
    "        else:\n",
    "            self.herramientas.append(nueva_herramienta)\n",
    "            return f\"Herramienta registrada: {nueva_herramienta}\"\n",
    "\n",
    "    def cambiar_posicion(self, nueva_posicion, nuevo_salario):\n",
    "        self.posicion = nueva_posicion\n",
    "        self.salario = nuevo_salario\n",
    "        return f\"{self.nombre} tiene puesto nuevo como {nueva_posicion} y un cambio de Salario {nuevo_salario} euros\"\n",
    "\n",
    "    def tomar_vacaciones(self):\n",
    "        while True:\n",
    "            dias_vacaciones=int(input(\"Ingrese dias de vacaciones\"))\n",
    "            if dias_vacaciones > 0:\n",
    "                break\n",
    "            else:\n",
    "                print(\"Solicita una cantidad valida\")\n",
    "        if dias_vacaciones > self.vacaciones:\n",
    "            return \"Tienes menos dias de vacaciones de los solicitados\"\n",
    "        else:\n",
    "            self.vacaciones = self.vacaciones -dias_vacaciones\n",
    "            return f\"te quedan {self.vacaciones} dias de vacaciones\"\n",
    "            \n",
    "\n",
    "    def solicitar_aumento_salario(self):\n",
    "        while True:\n",
    "            try:\n",
    "                aumento_salario=float(input(\"Ingresa aumento de salario en porcentaje\"))\n",
    "                if aumento_salario >= 0:\n",
    "                    self.salario = self.salario + (aumento_salario/100 * self.salario)\n",
    "                    return f\"Tu nuevo salario es {self.salario}\"\n",
    "                else: \n",
    "                    return \"solicita un numero valido\"\n",
    "            except:\n",
    "                print(\"No ha introducido un porcentaje valido\")\n",
    "\n",
    "    def realizar_evaluacion(self):\n",
    "        calificaciones_validas= [\"excelente\", \"bueno\", \"regular\",\"malo\"]\n",
    "        \n",
    "        while True:\n",
    "            calificacion_introducida = input(\"Inserta una calificacion\").lower()\n",
    "            if calificacion_introducida in calificaciones_validas:\n",
    "                return f\"Tu califiación es {calificacion_introducida.capitalize()}\"        \n",
    "            else:\n",
    "                print(\"Calificación no valida. Debe ser una de las siguientes:\", \", \".join(calificaciones_validas))"
   ]
  },
  {
   "cell_type": "code",
   "outputs": [],
   "source": [
    "empleado = Empleados(\"Pedro\", \"Lopez\", \"35\", \"supervisor\",1000, 2000, 15, [\"máquina\", \"excel\"])"
   ],
   "metadata": {
    "collapsed": false,
    "ExecuteTime": {
     "end_time": "2024-02-11T17:31:30.746438800Z",
     "start_time": "2024-02-11T17:31:30.737934900Z"
    }
   },
   "execution_count": 15
  },
  {
   "cell_type": "code",
   "outputs": [
    {
     "name": "stdout",
     "output_type": "stream",
     "text": [
      "El nombre es Pedro, supervisor y tiene 15 no disfrutadas\n"
     ]
    }
   ],
   "source": [
    "print(empleado.descripcion())"
   ],
   "metadata": {
    "collapsed": false,
    "ExecuteTime": {
     "end_time": "2024-02-11T17:31:33.101376700Z",
     "start_time": "2024-02-11T17:31:33.090418900Z"
    }
   },
   "execution_count": 16
  },
  {
   "cell_type": "code",
   "outputs": [
    {
     "name": "stdout",
     "output_type": "stream",
     "text": [
      "Pedro lleva 24 años en la empresa \n"
     ]
    }
   ],
   "source": [
    "print(empleado.calcular_antiguedad())"
   ],
   "metadata": {
    "collapsed": false,
    "ExecuteTime": {
     "end_time": "2024-02-11T17:31:34.622501300Z",
     "start_time": "2024-02-11T17:31:34.615997300Z"
    }
   },
   "execution_count": 17
  },
  {
   "cell_type": "code",
   "outputs": [
    {
     "name": "stdout",
     "output_type": "stream",
     "text": [
      "El numero debe ser positivo\n"
     ]
    }
   ],
   "source": [
    "print(empleado.solicitar_aumento_vacaciones(-1))"
   ],
   "metadata": {
    "collapsed": false,
    "ExecuteTime": {
     "end_time": "2024-02-11T17:31:36.732822600Z",
     "start_time": "2024-02-11T17:31:36.724826100Z"
    }
   },
   "execution_count": 18
  },
  {
   "cell_type": "code",
   "outputs": [
    {
     "name": "stdout",
     "output_type": "stream",
     "text": [
      "solicitud aprobada tendrás 25 dias de vacaciones\n"
     ]
    }
   ],
   "source": [
    "print(empleado.solicitar_aumento_vacaciones(10))"
   ],
   "metadata": {
    "collapsed": false,
    "ExecuteTime": {
     "end_time": "2024-02-11T17:31:38.698423600Z",
     "start_time": "2024-02-11T17:31:38.687697500Z"
    }
   },
   "execution_count": 19
  },
  {
   "cell_type": "code",
   "outputs": [
    {
     "name": "stdout",
     "output_type": "stream",
     "text": [
      "La herramienta ya existia\n"
     ]
    }
   ],
   "source": [
    "print(empleado.registrar_herramienta(\"excel\"))"
   ],
   "metadata": {
    "collapsed": false,
    "ExecuteTime": {
     "end_time": "2024-02-11T17:31:40.632727900Z",
     "start_time": "2024-02-11T17:31:40.624889700Z"
    }
   },
   "execution_count": 20
  },
  {
   "cell_type": "code",
   "outputs": [
    {
     "name": "stdout",
     "output_type": "stream",
     "text": [
      "Herramienta registrada: python\n"
     ]
    }
   ],
   "source": [
    "print(empleado.registrar_herramienta(\"python\"))"
   ],
   "metadata": {
    "collapsed": false,
    "ExecuteTime": {
     "end_time": "2024-02-11T17:31:42.272221100Z",
     "start_time": "2024-02-11T17:31:42.263419200Z"
    }
   },
   "execution_count": 21
  },
  {
   "cell_type": "code",
   "outputs": [
    {
     "name": "stdout",
     "output_type": "stream",
     "text": [
      "Pedro tiene puesto nuevo como Gerente y un cambio de Salario 2500 euros\n"
     ]
    }
   ],
   "source": [
    "print(empleado.cambiar_posicion(\"Gerente\",2500))"
   ],
   "metadata": {
    "collapsed": false,
    "ExecuteTime": {
     "end_time": "2024-02-11T17:31:44.449515300Z",
     "start_time": "2024-02-11T17:31:44.440671900Z"
    }
   },
   "execution_count": 22
  },
  {
   "cell_type": "code",
   "outputs": [
    {
     "name": "stdout",
     "output_type": "stream",
     "text": [
      "te quedan 5 dias de vacaciones\n"
     ]
    }
   ],
   "source": [
    "print(empleado.tomar_vacaciones())"
   ],
   "metadata": {
    "collapsed": false,
    "ExecuteTime": {
     "end_time": "2024-02-11T17:31:49.826860800Z",
     "start_time": "2024-02-11T17:31:46.753350800Z"
    }
   },
   "execution_count": 23
  },
  {
   "cell_type": "code",
   "outputs": [
    {
     "name": "stdout",
     "output_type": "stream",
     "text": [
      "Tu nuevo salario es 2575.0\n"
     ]
    }
   ],
   "source": [
    "print(empleado.solicitar_aumento_salario())"
   ],
   "metadata": {
    "collapsed": false,
    "ExecuteTime": {
     "end_time": "2024-02-11T17:31:56.188851100Z",
     "start_time": "2024-02-11T17:31:52.366489200Z"
    }
   },
   "execution_count": 24
  },
  {
   "cell_type": "code",
   "outputs": [
    {
     "name": "stdout",
     "output_type": "stream",
     "text": [
      "Tu califiación es Bueno\n"
     ]
    }
   ],
   "source": [
    "print(empleado.realizar_evaluacion())"
   ],
   "metadata": {
    "collapsed": false,
    "ExecuteTime": {
     "end_time": "2024-02-11T17:32:06.178731800Z",
     "start_time": "2024-02-11T17:32:03.024634800Z"
    }
   },
   "execution_count": 25
  }
 ],
 "metadata": {
  "kernelspec": {
   "display_name": "base",
   "language": "python",
   "name": "python3"
  },
  "language_info": {
   "codemirror_mode": {
    "name": "ipython",
    "version": 3
   },
   "file_extension": ".py",
   "mimetype": "text/x-python",
   "name": "python",
   "nbconvert_exporter": "python",
   "pygments_lexer": "ipython3",
   "version": "3.9.0"
  }
 },
 "nbformat": 4,
 "nbformat_minor": 2
}
